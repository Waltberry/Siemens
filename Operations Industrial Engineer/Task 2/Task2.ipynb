{
 "cells": [
  {
   "cell_type": "code",
   "execution_count": 1,
   "metadata": {},
   "outputs": [],
   "source": [
    "from pptx import Presentation\n",
    "from pptx.util import Inches, Pt"
   ]
  },
  {
   "cell_type": "code",
   "execution_count": 2,
   "metadata": {},
   "outputs": [
    {
     "data": {
      "text/plain": [
       "'Wheel_Assembly_Layout_Proposal.pptx'"
      ]
     },
     "execution_count": 2,
     "metadata": {},
     "output_type": "execute_result"
    }
   ],
   "source": [
    "# Create a presentation object\n",
    "prs = Presentation()\n",
    "\n",
    "# Title Slide\n",
    "slide_layout = prs.slide_layouts[0]\n",
    "slide = prs.slides.add_slide(slide_layout)\n",
    "title = slide.shapes.title\n",
    "subtitle = slide.placeholders[1]\n",
    "\n",
    "title.text = \"Proposal for Wheel Assembly Layout Reconfiguration\"\n",
    "subtitle.text = \"Onyero Walter Ofuzim\\n[Current Date]\"\n",
    "\n",
    "# Current Layout Analysis Slide\n",
    "slide_layout = prs.slide_layouts[1]\n",
    "slide = prs.slides.add_slide(slide_layout)\n",
    "title = slide.shapes.title\n",
    "content = slide.placeholders[1]\n",
    "\n",
    "title.text = \"Current Layout Analysis\"\n",
    "content.text = \"• Diagram of Current Layout\\n• Identified Issues\\n• Inefficient space utilization\\n• Excessive material movement\\n• Poor workflow organization\"\n",
    "\n",
    "# Bottleneck Contribution Analysis Slide\n",
    "slide_layout = prs.slide_layouts[1]\n",
    "slide = prs.slides.add_slide(slide_layout)\n",
    "title = slide.shapes.title\n",
    "content = slide.placeholders[1]\n",
    "\n",
    "title.text = \"Bottleneck Contribution Analysis\"\n",
    "content.text = \"• Bottleneck Analysis\\n• Factors causing the bottleneck\\n  - Limited space around critical assembly points\\n  - Excessive movement between workstations\\n  - Delays in material handling and storage retrieval\\n• Current Workflow Inefficiencies\"\n",
    "\n",
    "# Proposed Layout Slide\n",
    "slide_layout = prs.slide_layouts[1]\n",
    "slide = prs.slides.add_slide(slide_layout)\n",
    "title = slide.shapes.title\n",
    "content = slide.placeholders[1]\n",
    "\n",
    "title.text = \"Proposed Layout\"\n",
    "content.text = \"• Diagram of Proposed Layout\\n• Material Flow Optimization\\n  - Use conveyor belts or trolleys\\n  - Position storage areas adjacent to assembly cells\\n• Tool Placement and Ergonomics\\n  - Install tool racks and storage bins\\n  - Use adjustable workbenches and ergonomic chairs\"\n",
    "\n",
    "# Justification for Proposed Layout Slide\n",
    "slide_layout = prs.slide_layouts[1]\n",
    "slide = prs.slides.add_slide(slide_layout)\n",
    "title = slide.shapes.title\n",
    "content = slide.placeholders[1]\n",
    "\n",
    "title.text = \"Justification for Proposed Layout\"\n",
    "content.text = \"• Rationale for Layout Change\\n  - Reduced material movement\\n  - Balanced workload\\n  - Improved accessibility and ergonomics\\n• Expected Improvements\\n  - Quantifiable: Reduction in assembly time, Increased production capacity\\n  - Qualitative: Improved worker satisfaction, Enhanced safety\\n• Potential Challenges and Mitigation\\n  - Disruption during implementation\\n  - Training requirements for workers\\n  - Phased implementation and comprehensive training programs\"\n",
    "\n",
    "# Summary Slide\n",
    "slide_layout = prs.slide_layouts[1]\n",
    "slide = prs.slides.add_slide(slide_layout)\n",
    "title = slide.shapes.title\n",
    "content = slide.placeholders[1]\n",
    "\n",
    "title.text = \"Summary\"\n",
    "content.text = \"• Overview of Proposed Changes\\n• Benefits and Implementation Plan\"\n",
    "\n",
    "# Save the presentation\n",
    "# prs.save('Wheel_Assembly_Layout_Proposal.pptx')\n",
    "\n",
    "# \"Wheel_Assembly_Layout_Proposal.pptx\"\n"
   ]
  }
 ],
 "metadata": {
  "kernelspec": {
   "display_name": "siemensenv",
   "language": "python",
   "name": "python3"
  },
  "language_info": {
   "codemirror_mode": {
    "name": "ipython",
    "version": 3
   },
   "file_extension": ".py",
   "mimetype": "text/x-python",
   "name": "python",
   "nbconvert_exporter": "python",
   "pygments_lexer": "ipython3",
   "version": "3.12.4"
  }
 },
 "nbformat": 4,
 "nbformat_minor": 2
}
